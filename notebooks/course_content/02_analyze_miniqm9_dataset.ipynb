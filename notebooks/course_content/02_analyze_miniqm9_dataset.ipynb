{
 "cells": [
  {
   "attachments": {},
   "cell_type": "markdown",
   "metadata": {},
   "source": [
    "## Mini QM9 Dataset Analysis"
   ]
  },
  {
   "attachments": {},
   "cell_type": "markdown",
   "metadata": {},
   "source": [
    "### Loading dependencies"
   ]
  },
  {
   "cell_type": "code",
   "execution_count": null,
   "metadata": {},
   "outputs": [],
   "source": [
    "import sys\n",
    "sys.path.append('../../..')\n",
    "from probai.src.data.mini_qm9 import MiniQM9Dataset\n",
    "from torch_geometric.loader import DataLoader  \n",
    "from probai.src.evaluation.visualizer import plot_data3d\n",
    "from probai.src.evaluation.stability_analyze import check_stability\n",
    "import torch\n",
    "from tqdm import tqdm\n"
   ]
  },
  {
   "cell_type": "code",
   "execution_count": null,
   "metadata": {},
   "outputs": [],
   "source": [
    "# Fo this workshop we have defined the MiniQM9Dataset. Which defines a subset of QM9 dataset with molecules of maximum 15 atoms.\n",
    "# Next we initialize the dataset and dataloaders.\n",
    "\n",
    "dataset_train = MiniQM9Dataset(file_path=f\"../../raw_data/mini_qm9_train.pickle\")\n",
    "dataloader_train = DataLoader(dataset_train, batch_size=1, shuffle=False) \n",
    "\n",
    "dataset_valid = MiniQM9Dataset(file_path=f\"../../raw_data/mini_qm9_valid.pickle\")\n",
    "dataloader_valid = DataLoader(dataset_valid, batch_size=1, shuffle=False) \n",
    "print(f\"Number of training samples: \\t{len(dataset_train)} \\nNumber of validations samples: \\t{len(dataset_valid)}\") \n"
   ]
  },
  {
   "attachments": {},
   "cell_type": "markdown",
   "metadata": {},
   "source": [
    "#### Sample analysis"
   ]
  },
  {
   "cell_type": "code",
   "execution_count": null,
   "metadata": {},
   "outputs": [],
   "source": [
    "# Analyze the structure of a single by loading a sample from the dataloader with batch_size = 1.\n",
    "for batch in dataloader_train:          \n",
    "    # x: The positions of the atoms in the molecule (coordinates)  \n",
    "    print(f\"x (3D coordinates): \\t \\t \\t {batch.x.shape}\") \n",
    "\n",
    "    # h: The one-hot representation of the atom types  \n",
    "    print(f\"h (one-hot atom types): \\t\\t {batch.h.shape}\")  \n",
    "        \n",
    "    # edge_index: The adjacency matrix of the molecular graph  \n",
    "    print(f\"edge_index (adjacency matrix): \\t\\t {batch.edge_index.shape}\")  \n",
    "        \n",
    "    # context: The context index of each graph  \n",
    "    print(f\"context (mol property: polarizability):\\t {batch.context.shape}\")  \n",
    "        \n",
    "    # batch: A tensor assigning each node to its respective graph in the batch  \n",
    "    print(f\"batch (node-to-graph assignment): \\t {batch.batch.shape}\")  \n",
    "        \n",
    "    break"
   ]
  },
  {
   "attachments": {},
   "cell_type": "markdown",
   "metadata": {},
   "source": [
    "### Sample plotting"
   ]
  },
  {
   "cell_type": "code",
   "execution_count": null,
   "metadata": {},
   "outputs": [],
   "source": [
    "# Load and visualize a few samples from the MiniQM9Dataset  \n",
    "num_plotted_samples = 5\n",
    "for idx, batch in enumerate(dataset_train):\n",
    "    # Print the current batch information  \n",
    "    print(batch)\n",
    "        \n",
    "    # Convert the one-hot encoded atom types to integer labels  \n",
    "    h_atom_type = torch.argmax(batch.h, dim=1).numpy()\n",
    "\n",
    "    # Visualize the molecular structure using plot_data3d  \n",
    "    # batch.x contains the 3D coordinates of the atoms  \n",
    "    # h_atom_type contains the atom type labels  \n",
    "    # spheres_3d=True enables the 3D sphere representation for atoms. Se to False for faster speed.\n",
    "    plot_data3d(batch.x, h_atom_type, spheres_3d=True)\n",
    "\n",
    "    if idx >= num_plotted_samples:\n",
    "        break\n",
    "    "
   ]
  },
  {
   "attachments": {},
   "cell_type": "markdown",
   "metadata": {},
   "source": [
    "#### Stability analysis\n",
    "\n",
    "<small> <b>Atom stability </b>: We define an atom is stable when its valence matches the sum of its bond orders. For example, Hydrogen atoms have balence 1, therefore they will be stable when having a single bond with another atom. Carbon atoms have valence 4 therefore they could have up to 4 bonds with hydrogen atoms creatig Methane of two double bond with Oxygen atoms creating CO2.\n",
    "\n",
    "\n",
    " <b>Moelcule stability </b>: We say a molecule is stable when all its atoms are stable.\n",
    " \n",
    " \n",
    " Next we compute the stability baseline metrics for Mini QM9. Since we are using a simplified metrics to compute bonds (just considering pairs of atoms) we do not get 100% stability. But this will be useful as an upperbound metric when analyzing our trained model. </small>  "
   ]
  },
  {
   "cell_type": "code",
   "execution_count": null,
   "metadata": {},
   "outputs": [],
   "source": [
    "\n",
    "# Initialize a dictionary to store the counts of stable molecules and atoms, as well as the total number of molecules and atoms  \n",
    "st_dict = {\"num_stable_mols\": 0, \"num_mols\":0, \"num_stable_atoms\": 0, \"num_atoms\": 0}\n",
    "for idx, batch in enumerate(tqdm(dataloader_valid, desc=\"Evaluating stability\")):  \n",
    "\n",
    "    # Convert the one-hot encoded atom types to integer labels  \n",
    "    h_atom_type = torch.argmax(batch.h, dim=1).numpy()\n",
    "\n",
    "    # Check the stability of the current molecule and count the number of stable atoms.\n",
    "    mol_stable, num_stable_atoms, num_atoms = check_stability(batch.x, h_atom_type)\n",
    "\n",
    "    # Update the stability dictionary with the results  \n",
    "    st_dict[\"num_stable_mols\"] += mol_stable\n",
    "    st_dict[\"num_mols\"] += 1\n",
    "    st_dict[\"num_stable_atoms\"] += num_stable_atoms\n",
    "    st_dict[\"num_atoms\"] += num_atoms\n",
    "\n",
    "\n",
    "# Calculate the atom and molecule stability ratios and print the results.\n",
    "atom_st = st_dict['num_stable_atoms']/st_dict['num_atoms']\n",
    "mol_st = st_dict['num_stable_mols']/st_dict['num_mols']\n",
    "print(f\"Atom stability: {atom_st} \\t Molecule Stability {mol_st}\")\n",
    "\n"
   ]
  },
  {
   "cell_type": "code",
   "execution_count": null,
   "metadata": {},
   "outputs": [],
   "source": []
  }
 ],
 "metadata": {
  "kernelspec": {
   "display_name": "Python 3",
   "language": "python",
   "name": "python3"
  },
  "language_info": {
   "codemirror_mode": {
    "name": "ipython",
    "version": 3
   },
   "file_extension": ".py",
   "mimetype": "text/x-python",
   "name": "python",
   "nbconvert_exporter": "python",
   "pygments_lexer": "ipython3",
   "version": "3.10.8"
  },
  "orig_nbformat": 4
 },
 "nbformat": 4,
 "nbformat_minor": 2
}
