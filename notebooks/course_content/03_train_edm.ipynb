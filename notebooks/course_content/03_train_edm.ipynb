{
 "cells": [
  {
   "attachments": {},
   "cell_type": "markdown",
   "metadata": {},
   "source": [
    "## Train and Equivariant Diffusion Model on Mini-QM9"
   ]
  },
  {
   "attachments": {},
   "cell_type": "markdown",
   "metadata": {},
   "source": [
    "### Loading dependencies and datasets"
   ]
  },
  {
   "cell_type": "code",
   "execution_count": 9,
   "metadata": {},
   "outputs": [],
   "source": [
    "import sys\n",
    "sys.path.append('../../..')\n",
    "from probai.src.data.mini_qm9 import MiniQM9Dataset\n",
    "from torch_geometric.loader import DataLoader \n",
    "from probai.src.models.gt.ddpm import DDPM\n",
    "from probai.src.models.egnn import EGNNScore\n",
    "from probai.src.training.training_loop import Trainer\n",
    "import matplotlib.pyplot as plt\n",
    "import torch\n",
    "import yaml\n"
   ]
  },
  {
   "cell_type": "code",
   "execution_count": 10,
   "metadata": {},
   "outputs": [],
   "source": [
    "\n",
    "# Load train and val dataloaders\n",
    "train_dataset = MiniQM9Dataset(file_path=f\"../../raw_data/mini_qm9_train.pickle\")\n",
    "train_loader = DataLoader(train_dataset, batch_size=128, shuffle=True) \n",
    "\n",
    "valid_dataset = MiniQM9Dataset(file_path=f\"../../raw_data/mini_qm9_valid.pickle\")\n",
    "valid_loader = DataLoader(valid_dataset, batch_size=128, shuffle=False)"
   ]
  },
  {
   "attachments": {},
   "cell_type": "markdown",
   "metadata": {},
   "source": [
    "### Initialize EGNN and DDPM models "
   ]
  },
  {
   "cell_type": "code",
   "execution_count": 11,
   "metadata": {},
   "outputs": [],
   "source": [
    "# Initialize EGNN\n",
    "with open(\"../../configs/default_config.yml\", 'r') as file:  \n",
    "    config = yaml.safe_load(file)  \n",
    "  \n",
    "egnn_config = config['EGNN']  \n",
    "hidden_nf = egnn_config['hidden_nf']  \n",
    "n_layers = egnn_config['n_layers']\n",
    "score = EGNNScore(in_node_nf=5 + 1, # 5 for the one hot encoding, 1 for diffusion time\n",
    "        hidden_nf=hidden_nf,\n",
    "        n_layers=n_layers,\n",
    "        out_node_nf=5) # 5 atom types in QM9"
   ]
  },
  {
   "cell_type": "code",
   "execution_count": 12,
   "metadata": {},
   "outputs": [],
   "source": [
    "# Initialize DDPM\n",
    "ddpm_config = config['DDPM']\n",
    "N = config['DDPM']['N'] # Numbero of noise level, default set to 100\n",
    "ddpm = DDPM(noise_schedule_type=\"linear\", model=score, N=N)\n",
    "trainer = Trainer(ddpm, lr=0.0005, checkpoints_path=\"../../checkpoints/egnn_checkpoint.pth\")\n"
   ]
  },
  {
   "attachments": {},
   "cell_type": "markdown",
   "metadata": {},
   "source": [
    "### Train the Diffusion EGNN Model\n",
    "<small> If the model is training well, the Validation Loss should be below 1.0 when using <code>noise_schedule_type=\"linear\"</code></small>"
   ]
  },
  {
   "cell_type": "code",
   "execution_count": 13,
   "metadata": {},
   "outputs": [
    {
     "name": "stderr",
     "output_type": "stream",
     "text": [
      "Epochs Progress:  30%|██████▎              | 15/50 [02:07<04:52,  8.35s/it, Epoch=14, Val_loss=1.08]"
     ]
    }
   ],
   "source": [
    "trainer.train(train_loader, valid_loader, epochs=50, device=torch.device('cuda:0'))\n",
    "plt.plot(trainer.val_losses)"
   ]
  },
  {
   "cell_type": "code",
   "execution_count": null,
   "metadata": {},
   "outputs": [],
   "source": []
  }
 ],
 "metadata": {
  "kernelspec": {
   "display_name": "Python 3",
   "language": "python",
   "name": "python3"
  },
  "language_info": {
   "codemirror_mode": {
    "name": "ipython",
    "version": 3
   },
   "file_extension": ".py",
   "mimetype": "text/x-python",
   "name": "python",
   "nbconvert_exporter": "python",
   "pygments_lexer": "ipython3",
   "version": "3.10.8"
  },
  "orig_nbformat": 4
 },
 "nbformat": 4,
 "nbformat_minor": 2
}
