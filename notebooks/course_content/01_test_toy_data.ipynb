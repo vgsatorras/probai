{
 "cells": [
  {
   "attachments": {},
   "cell_type": "markdown",
   "metadata": {},
   "source": [
    "## Code a Diffusion Model for a toy dataset"
   ]
  },
  {
   "attachments": {},
   "cell_type": "markdown",
   "metadata": {},
   "source": [
    "### Loading dependencies"
   ]
  },
  {
   "cell_type": "code",
   "execution_count": null,
   "metadata": {},
   "outputs": [],
   "source": [
    "import sys\n",
    "sys.path.append('../../..')"
   ]
  },
  {
   "cell_type": "code",
   "execution_count": null,
   "metadata": {},
   "outputs": [],
   "source": [
    "import matplotlib.pyplot as plt\n",
    "import numpy as np\n",
    "from sklearn import datasets\n",
    "import torch\n",
    "from torch.utils.data import DataLoader\n",
    "from probai.src.data.data import DataBatch\n",
    "from probai.src.models.ddpm import DDPM\n",
    "from probai.src.training.training_loop import Trainer\n"
   ]
  },
  {
   "attachments": {},
   "cell_type": "markdown",
   "metadata": {},
   "source": [
    "### Plot some samples for the Two Moons dataset"
   ]
  },
  {
   "cell_type": "code",
   "execution_count": null,
   "metadata": {},
   "outputs": [],
   "source": [
    "def plot_samples(samples):\n",
    "    plt.figure(figsize=(4, 4))\n",
    "    plt.scatter(samples[:, 0], samples[:, 1], s=1, alpha=0.5)\n",
    "    plt.xlim(-2, 2)\n",
    "    plt.ylim(-2, 2)\n",
    "    # remove the frame and ticks\n",
    "    plt.box(False)\n",
    "    plt.xticks([])\n",
    "    plt.yticks([])\n",
    "\n",
    "\n",
    "def get_toy_dataset(n):\n",
    "    samples = datasets.make_moons(n_samples=n, noise=0.05)[0].astype(np.float32)\n",
    "    samples -= np.array([[0.5, 0.25]])\n",
    "    return samples\n",
    "\n",
    "\n",
    "# plot the samples\n",
    "plot_samples(get_toy_dataset(20000))"
   ]
  },
  {
   "attachments": {},
   "cell_type": "markdown",
   "metadata": {},
   "source": [
    "### Create dataloaders and initialize neural networks"
   ]
  },
  {
   "cell_type": "code",
   "execution_count": null,
   "metadata": {},
   "outputs": [],
   "source": [
    "# create a data loader for the samples\n",
    "batch_size = 256\n",
    "\n",
    "def collate_to_batch(samples):\n",
    "    x = torch.from_numpy(np.stack(samples, axis=0))\n",
    "    batch = torch.LongTensor(range(x.shape[0]))\n",
    "    return DataBatch(x=x, batch=batch)\n",
    "\n",
    "\n",
    "train_loader = DataLoader(\n",
    "    get_toy_dataset(50000), \n",
    "    batch_size=batch_size, \n",
    "    shuffle=True, \n",
    "    collate_fn=collate_to_batch, \n",
    "    drop_last=True\n",
    ")\n",
    "val_loader = DataLoader(\n",
    "    get_toy_dataset(2000), \n",
    "    batch_size=batch_size, \n",
    "    shuffle=False, \n",
    "    collate_fn=collate_to_batch\n",
    ")\n",
    "\n",
    "# Define the neural network that defines the Score Function\n",
    "class ResidualBlock(torch.nn.Module):\n",
    "    def __init__(self, dim):\n",
    "        super().__init__()\n",
    "        self.net = torch.nn.Sequential(\n",
    "            torch.nn.Linear(dim, dim),\n",
    "            torch.nn.ELU(),\n",
    "            torch.nn.Linear(dim, dim)\n",
    "        )\n",
    "    def forward(self, x):\n",
    "        return torch.nn.functional.elu(x + self.net(x))\n",
    "    \n",
    "class ScoreModel(torch.nn.Module):\n",
    "    def __init__(self):\n",
    "        super().__init__()\n",
    "        dimh = 256\n",
    "        self.epsilon_predictor = torch.nn.Sequential(\n",
    "            torch.nn.Linear(3, dimh),\n",
    "            torch.nn.ELU(),\n",
    "            ResidualBlock(dimh),\n",
    "            ResidualBlock(dimh),\n",
    "            torch.nn.Linear(dimh, 2)\n",
    "        )\n",
    "        \n",
    "    def forward(self, z_t, t, **kwargs):\n",
    "        # concatenate the input with the continuous time\n",
    "        z_t = torch.cat([z_t, t.unsqueeze(1) * 2 - 1], dim=1)\n",
    "        \n",
    "        # predict the score\n",
    "        score = self.epsilon_predictor(z_t)\n",
    "        return score\n",
    "    "
   ]
  },
  {
   "attachments": {},
   "cell_type": "markdown",
   "metadata": {},
   "source": [
    "\n",
    "### <span style=\"color:orange;\">TO DO:</span> Code the missing parts in DDPM\n"
   ]
  },
  {
   "cell_type": "code",
   "execution_count": 1,
   "metadata": {},
   "outputs": [],
   "source": [
    "### Include here the instrucitons of what they need to code"
   ]
  },
  {
   "attachments": {},
   "cell_type": "markdown",
   "metadata": {},
   "source": [
    "### Train the DDPM model and plot generated samples"
   ]
  },
  {
   "cell_type": "code",
   "execution_count": null,
   "metadata": {},
   "outputs": [],
   "source": [
    "\n",
    "N = 1000\n",
    "ddpm = DDPM(noise_schedule_type=\"linear\", model=ScoreModel(), N=N)\n",
    "trainer = Trainer(ddpm, lr=0.001)\n",
    "trainer.train(train_loader, val_loader, epochs=100, device=torch.device('cuda:0'))\n"
   ]
  },
  {
   "cell_type": "code",
   "execution_count": null,
   "metadata": {},
   "outputs": [],
   "source": [
    "# Plot val loss\n",
    "plt.plot(trainer.val_losses)"
   ]
  },
  {
   "cell_type": "code",
   "execution_count": null,
   "metadata": {},
   "outputs": [],
   "source": [
    "# Plot generated samples\n",
    "samples = ddpm.sample([10000, 2])\n",
    "plot_samples(samples)"
   ]
  }
 ],
 "metadata": {
  "kernelspec": {
   "display_name": "mol_diff",
   "language": "python",
   "name": "python3"
  },
  "language_info": {
   "codemirror_mode": {
    "name": "ipython",
    "version": 3
   },
   "file_extension": ".py",
   "mimetype": "text/x-python",
   "name": "python",
   "nbconvert_exporter": "python",
   "pygments_lexer": "ipython3",
   "version": "3.10.8"
  },
  "orig_nbformat": 4
 },
 "nbformat": 4,
 "nbformat_minor": 2
}
